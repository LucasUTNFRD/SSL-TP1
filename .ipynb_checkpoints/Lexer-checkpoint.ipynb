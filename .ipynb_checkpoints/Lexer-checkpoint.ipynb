{
 "cells": [
  {
   "cell_type": "code",
   "execution_count": 1,
   "id": "490071b6",
   "metadata": {},
   "outputs": [],
   "source": [
    "from tokens import *"
   ]
  },
  {
   "cell_type": "code",
   "execution_count": 2,
   "id": "add4fccd",
   "metadata": {},
   "outputs": [],
   "source": [
    "tokens = {\n",
    "    \"si\":si,\n",
    "    \"sino\":sino,\n",
    "    \"entonces\":entonces,\n",
    "    \"finsi\":finsi,\n",
    "    \"repetir\":repetir,\n",
    "    \"hasta\":hasta,\n",
    "    \"equal\":equal,\n",
    "    \"leer\":leer,\n",
    "    \"mostar\":mostrar,\n",
    "    \"func\":func,\n",
    "    \"finfunc\":finfunc,\n",
    "    \"numero\":numero,\n",
    "    \"parentesis\":parentesis,\n",
    "    \"puntoYcoma\":punto_coma,\n",
    "    \"oprel\":oprel,\n",
    "    \"opsuma\":opsuma,\n",
    "    \"opmult\":opmult,\n",
    "    \"var\":var\n",
    "}"
   ]
  },
  {
   "cell_type": "code",
   "execution_count": 3,
   "id": "7375cc9d",
   "metadata": {},
   "outputs": [],
   "source": [
    "def lexer(programa):\n",
    "    # Eliminar espacio en blanco antes y despues del programa, y agregar un\n",
    "    # espacio al final para poder agregar el ultimo token.\n",
    "    programa = programa.strip()\n",
    "    programa += \" \"\n",
    "\n",
    "    tokens_out = []  # La salida del programa\n",
    "    tokens_posibles = [t for t in tokens]  # los tokens posibles para el lexema\n",
    "    # tokens posibles para un caracter mas\n",
    "    tokens_posibles_1mas = tokens_posibles.copy()\n",
    "    lexema = \"\"\n",
    "    lexema1mas = \"\"\n",
    "    for i in range(len(programa)):\n",
    "\n",
    "        # Se incrementan el lexema y el lexema1mas en un caracter\n",
    "        lexema = lexema1mas\n",
    "        lexema1mas = lexema1mas + programa[i]\n",
    "\n",
    "        # Si tokens_posibles es vacío esto es porque se acaba de agregar un\n",
    "        # lexema a la salida, entonces hay que agregar los tokens posibles con\n",
    "        # para el unico caracter que contiene el lexema\n",
    "        if tokens_posibles == []:\n",
    "            for token in tokens:\n",
    "                if tokens[token].recognize_lexeme(lexema) != \"Trampa\":\n",
    "                    tokens_posibles.append(token)\n",
    "            tokens_posibles_1mas = tokens_posibles.copy()\n",
    "        else:\n",
    "            # Si tokens_posibles no esta vacio, solo se copian los tokens\n",
    "            # posibles con un caracter mas del ciclo anterior\n",
    "            tokens_posibles = tokens_posibles_1mas.copy()\n",
    "\n",
    "        # si el lexema es solo un espacio en blanco o un salto de linea, saltear\n",
    "        # un caracter y no hacer nada.\n",
    "        if lexema == \" \" or lexema == \"\\n\" or lexema == \"\\t\":\n",
    "            lexema1mas = programa[i]\n",
    "            continue\n",
    "\n",
    "        # contiene los tokens en estado final con el lexema (se llena en el ciclo)\n",
    "        tokens_final = []\n",
    "        for token in tokens_posibles:\n",
    "            # si el afd para un token con el lexema1mas cae en estado trampa,\n",
    "            # eliminar ese token de los tokens_posibles_1mas\n",
    "            estado_1mas = tokens[token].recognize_lexeme(lexema1mas)\n",
    "            if estado_1mas == \"Trampa\":\n",
    "                tokens_posibles_1mas.remove(token)\n",
    "            # si el afd para un token con el lexema cae en un estado final,\n",
    "            # agregarlo a los tokens_finales\n",
    "            estado_actual = tokens[token].recognize_lexeme(lexema)\n",
    "            if estado_actual == \"Final\":\n",
    "                tokens_final.append(token)\n",
    "\n",
    "        # si no hay ningun token posible con un caracter mas, y hay al menos un\n",
    "        # token en estado final, agregar ese token a la salida del lexer.\n",
    "        if tokens_posibles_1mas == []:\n",
    "            if tokens_final != []:\n",
    "                tokens_out.append({tokens_final[0]: lexema})\n",
    "                lexema1mas = programa[i]\n",
    "                tokens_posibles = []\n",
    "            else:\n",
    "                # En caso de que no haya ningun token posible con un caracter\n",
    "                # mas pero tampoco haya ninguno en estado final, terminar el\n",
    "                # lexer con un error de token invalido.\n",
    "                raise ValueError(\"Token invalido\")\n",
    "\n",
    "    return tokens_out"
   ]
  },
  {
   "cell_type": "code",
   "execution_count": 4,
   "id": "48fb7b1e",
   "metadata": {},
   "outputs": [
    {
     "data": {
      "text/plain": [
       "[{'var': 'i'}, {'equal': 'equal'}, {'numero': '2'}]"
      ]
     },
     "execution_count": 4,
     "metadata": {},
     "output_type": "execute_result"
    }
   ],
   "source": [
    "lexer(\"i equal 2\")"
   ]
  },
  {
   "cell_type": "code",
   "execution_count": 7,
   "id": "290344dd",
   "metadata": {},
   "outputs": [
    {
     "data": {
      "text/plain": [
       "[{'var': 'desde'},\n",
       " {'var': 'x'},\n",
       " {'equal': 'equal'},\n",
       " {'numero': '5'},\n",
       " {'finsi': 'finsi'},\n",
       " {'numero': '123'},\n",
       " {'var': 'x'},\n",
       " {'var': 'x'},\n",
       " {'oprel': '>='},\n",
       " {'numero': '3'},\n",
       " {'var': 'fin'},\n",
       " {'finfunc': 'finfunc'},\n",
       " {'func': 'func'}]"
      ]
     },
     "execution_count": 7,
     "metadata": {},
     "output_type": "execute_result"
    }
   ],
   "source": [
    "lexer(\"desde x equal 5 finsi 123x x>=3 fin finfunc func\")"
   ]
  },
  {
   "cell_type": "code",
   "execution_count": null,
   "id": "33e046ba",
   "metadata": {},
   "outputs": [],
   "source": []
  },
  {
   "cell_type": "code",
   "execution_count": null,
   "id": "cb9928ff",
   "metadata": {},
   "outputs": [],
   "source": []
  }
 ],
 "metadata": {
  "kernelspec": {
   "display_name": "Python 3 (ipykernel)",
   "language": "python",
   "name": "python3"
  },
  "language_info": {
   "codemirror_mode": {
    "name": "ipython",
    "version": 3
   },
   "file_extension": ".py",
   "mimetype": "text/x-python",
   "name": "python",
   "nbconvert_exporter": "python",
   "pygments_lexer": "ipython3",
   "version": "3.11.4"
  }
 },
 "nbformat": 4,
 "nbformat_minor": 5
}
