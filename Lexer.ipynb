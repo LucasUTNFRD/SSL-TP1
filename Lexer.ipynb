{
 "cells": [
  {
   "cell_type": "code",
   "execution_count": null,
   "id": "490071b6",
   "metadata": {},
   "outputs": [
    {
     "ename": "",
     "evalue": "",
     "output_type": "error",
     "traceback": [
      "\u001b[1;31mRunning cells with 'c:\\Users\\Juli\\AppData\\Local\\Microsoft\\WindowsApps\\PythonSoftwareFoundation.Python.3.11_qbz5n2kfra8p0\\python.exe' requires the ipykernel package.\n",
      "\u001b[1;31mRun the following command to install 'ipykernel' into the Python environment. \n",
      "\u001b[1;31mCommand: 'c:/Users/Juli/AppData/Local/Microsoft/WindowsApps/PythonSoftwareFoundation.Python.3.11_qbz5n2kfra8p0/python.exe -m pip install ipykernel -U --user --force-reinstall'"
     ]
    }
   ],
   "source": [
    "from tokens import *"
   ]
  },
  {
   "cell_type": "code",
   "execution_count": null,
   "id": "add4fccd",
   "metadata": {},
   "outputs": [
    {
     "ename": "",
     "evalue": "",
     "output_type": "error",
     "traceback": [
      "\u001b[1;31mRunning cells with 'c:\\Users\\Juli\\AppData\\Local\\Microsoft\\WindowsApps\\PythonSoftwareFoundation.Python.3.11_qbz5n2kfra8p0\\python.exe' requires the ipykernel package.\n",
      "\u001b[1;31mRun the following command to install 'ipykernel' into the Python environment. \n",
      "\u001b[1;31mCommand: 'c:/Users/Juli/AppData/Local/Microsoft/WindowsApps/PythonSoftwareFoundation.Python.3.11_qbz5n2kfra8p0/python.exe -m pip install ipykernel -U --user --force-reinstall'"
     ]
    }
   ],
   "source": [
    "tokens = {\n",
    "    \"si\":si,\n",
    "    \"sino\":sino,\n",
    "    \"entonces\":entonces,\n",
    "    \"finsi\":finsi,\n",
    "    \"repetir\":repetir,\n",
    "    \"hasta\":hasta,\n",
    "    \"equal\":equal,\n",
    "    \"leer\":leer,\n",
    "    \"mostar\":mostrar,\n",
    "    \"func\":func,\n",
    "    \"finfunc\":finfunc,\n",
    "    \"numero\":numero,\n",
    "    \"(\":parentesisApertura,\n",
    "    \")\":parentesisCerrado,\n",
    "    \";\":punto_coma,\n",
    "    \"oprel\":oprel,\n",
    "    \"opsuma\":opsuma,\n",
    "    \"opmult\":opmult,\n",
    "    \"id\":var\n",
    "    }"
   ]
  },
  {
   "cell_type": "code",
   "execution_count": null,
   "id": "7375cc9d",
   "metadata": {},
   "outputs": [
    {
     "ename": "",
     "evalue": "",
     "output_type": "error",
     "traceback": [
      "\u001b[1;31mRunning cells with 'c:\\Users\\Juli\\AppData\\Local\\Microsoft\\WindowsApps\\PythonSoftwareFoundation.Python.3.11_qbz5n2kfra8p0\\python.exe' requires the ipykernel package.\n",
      "\u001b[1;31mRun the following command to install 'ipykernel' into the Python environment. \n",
      "\u001b[1;31mCommand: 'c:/Users/Juli/AppData/Local/Microsoft/WindowsApps/PythonSoftwareFoundation.Python.3.11_qbz5n2kfra8p0/python.exe -m pip install ipykernel -U --user --force-reinstall'"
     ]
    }
   ],
   "source": [
    "def lexer(programa):\n",
    "    # Eliminar espacio en blanco antes y despues del programa, y agregar un\n",
    "    # espacio al final para poder agregar el ultimo token.\n",
    "    programa = programa.strip()\n",
    "    programa += \" \"\n",
    "\n",
    "    tokens_out = []  # La salida del programa\n",
    "    tokens_posibles = [t for t in tokens]  # los tokens posibles para el lexema\n",
    "    # tokens posibles para un caracter mas\n",
    "    tokens_posibles_1mas = tokens_posibles.copy()\n",
    "    lexema = \"\"\n",
    "    lexema1mas = \"\"\n",
    "    for i in range(len(programa)):\n",
    "\n",
    "        # Se incrementan el lexema y el lexema1mas en un caracter\n",
    "        lexema = lexema1mas\n",
    "        lexema1mas = lexema1mas + programa[i]\n",
    "\n",
    "        # Si tokens_posibles es vacío esto es porque se acaba de agregar un\n",
    "        # lexema a la salida, entonces hay que agregar los tokens posibles con\n",
    "        # para el unico caracter que contiene el lexema\n",
    "        if tokens_posibles == []:\n",
    "            for token in tokens:\n",
    "                if tokens[token].recognize_lexeme(lexema) != \"Trampa\":\n",
    "                    tokens_posibles.append(token)\n",
    "            tokens_posibles_1mas = tokens_posibles.copy()\n",
    "        else:\n",
    "            # Si tokens_posibles no esta vacio, solo se copian los tokens\n",
    "            # posibles con un caracter mas del ciclo anterior\n",
    "            tokens_posibles = tokens_posibles_1mas.copy()\n",
    "\n",
    "        # si el lexema es solo un espacio en blanco o un salto de linea, saltear\n",
    "        # un caracter y no hacer nada.\n",
    "        if lexema == \" \" or lexema == \"\\n\" or lexema == \"\\t\":\n",
    "            lexema1mas = programa[i]\n",
    "            continue\n",
    "\n",
    "        # contiene los tokens en estado final con el lexema (se llena en el ciclo)\n",
    "        tokens_final = []\n",
    "        for token in tokens_posibles:\n",
    "            # si el afd para un token con el lexema1mas cae en estado trampa,\n",
    "            # eliminar ese token de los tokens_posibles_1mas\n",
    "            estado_1mas = tokens[token].recognize_lexeme(lexema1mas)\n",
    "            if estado_1mas == \"Trampa\":\n",
    "                tokens_posibles_1mas.remove(token)\n",
    "            # si el afd para un token con el lexema cae en un estado final,\n",
    "            # agregarlo a los tokens_finales\n",
    "            estado_actual = tokens[token].recognize_lexeme(lexema)\n",
    "            if estado_actual == \"Final\":\n",
    "                tokens_final.append(token)\n",
    "\n",
    "        # si no hay ningun token posible con un caracter mas, y hay al menos un\n",
    "        # token en estado final, agregar ese token a la salida del lexer.\n",
    "        if tokens_posibles_1mas == []:\n",
    "            if tokens_final != []:\n",
    "                tokens_out.append((tokens_final[0],lexema))\n",
    "                lexema1mas = programa[i]\n",
    "                tokens_posibles = []\n",
    "            else:\n",
    "                # En caso de que no haya ningun token posible con un caracter\n",
    "                # mas pero tampoco haya ninguno en estado final, terminar el\n",
    "                # lexer con un error de token invalido.\n",
    "                raise ValueError(\"Token invalido\")\n",
    "\n",
    "    return tokens_out"
   ]
  },
  {
   "cell_type": "code",
   "execution_count": null,
   "id": "48fb7b1e",
   "metadata": {},
   "outputs": [
    {
     "ename": "",
     "evalue": "",
     "output_type": "error",
     "traceback": [
      "\u001b[1;31mRunning cells with 'c:\\Users\\Juli\\AppData\\Local\\Microsoft\\WindowsApps\\PythonSoftwareFoundation.Python.3.11_qbz5n2kfra8p0\\python.exe' requires the ipykernel package.\n",
      "\u001b[1;31mRun the following command to install 'ipykernel' into the Python environment. \n",
      "\u001b[1;31mCommand: 'c:/Users/Juli/AppData/Local/Microsoft/WindowsApps/PythonSoftwareFoundation.Python.3.11_qbz5n2kfra8p0/python.exe -m pip install ipykernel -U --user --force-reinstall'"
     ]
    }
   ],
   "source": [
    "lexer(\"i equal 2\")"
   ]
  },
  {
   "cell_type": "code",
   "execution_count": null,
   "id": "290344dd",
   "metadata": {},
   "outputs": [
    {
     "ename": "",
     "evalue": "",
     "output_type": "error",
     "traceback": [
      "\u001b[1;31mRunning cells with 'c:\\Users\\Juli\\AppData\\Local\\Microsoft\\WindowsApps\\PythonSoftwareFoundation.Python.3.11_qbz5n2kfra8p0\\python.exe' requires the ipykernel package.\n",
      "\u001b[1;31mRun the following command to install 'ipykernel' into the Python environment. \n",
      "\u001b[1;31mCommand: 'c:/Users/Juli/AppData/Local/Microsoft/WindowsApps/PythonSoftwareFoundation.Python.3.11_qbz5n2kfra8p0/python.exe -m pip install ipykernel -U --user --force-reinstall'"
     ]
    }
   ],
   "source": [
    "token_list=lexer(\"repetir x equal 5 finsi 123x x>=3 fin finfunc func\")\n",
    "print(token_list)"
   ]
  },
  {
   "cell_type": "code",
   "execution_count": null,
   "id": "1d3b23da",
   "metadata": {},
   "outputs": [
    {
     "ename": "",
     "evalue": "",
     "output_type": "error",
     "traceback": [
      "\u001b[1;31mRunning cells with 'c:\\Users\\Juli\\AppData\\Local\\Microsoft\\WindowsApps\\PythonSoftwareFoundation.Python.3.11_qbz5n2kfra8p0\\python.exe' requires the ipykernel package.\n",
      "\u001b[1;31mRun the following command to install 'ipykernel' into the Python environment. \n",
      "\u001b[1;31mCommand: 'c:/Users/Juli/AppData/Local/Microsoft/WindowsApps/PythonSoftwareFoundation.Python.3.11_qbz5n2kfra8p0/python.exe -m pip install ipykernel -U --user --force-reinstall'"
     ]
    }
   ],
   "source": [
    "\n",
    "ElementoIzq=0\n",
    "for N in range(len(token_list)):\n",
    "    print(token_list[N][ElementoIzq])"
   ]
  },
  {
   "cell_type": "code",
   "execution_count": null,
   "id": "470a9852",
   "metadata": {},
   "outputs": [
    {
     "ename": "",
     "evalue": "",
     "output_type": "error",
     "traceback": [
      "\u001b[1;31mRunning cells with 'c:\\Users\\Juli\\AppData\\Local\\Microsoft\\WindowsApps\\PythonSoftwareFoundation.Python.3.11_qbz5n2kfra8p0\\python.exe' requires the ipykernel package.\n",
      "\u001b[1;31mRun the following command to install 'ipykernel' into the Python environment. \n",
      "\u001b[1;31mCommand: 'c:/Users/Juli/AppData/Local/Microsoft/WindowsApps/PythonSoftwareFoundation.Python.3.11_qbz5n2kfra8p0/python.exe -m pip install ipykernel -U --user --force-reinstall'"
     ]
    }
   ],
   "source": [
    "P = {\n",
    "    'Program': [\n",
    "        ['ListaSentencias']\n",
    "    ],\n",
    "    'ListaSentencias': [\n",
    "        ['Sentencia','ListaSentecias_Prime']\n",
    "    ],\n",
    "    'ListaSentecias_Prime' :[\n",
    "        [';', 'Sentencia'],['λ']\n",
    "    ],\n",
    "    'Sentencia': [\n",
    "        ['SentenciaSi'],\n",
    "        ['SentenciaRepetir'],\n",
    "        ['SentenciaAsig'],\n",
    "        ['SentenciaLeer'],\n",
    "        ['SentenciaMostrar'],\n",
    "        ['SentenciaFun']\n",
    "    ],\n",
    "    'SentenciaSi': [ \n",
    "        ['si', 'Expresion', 'entonces', 'ListaSentencias', 'SentenciaSi_Prime'] \n",
    "    ],\n",
    "    'SentenciaSi_Prime' : [ \n",
    "        ['sino', 'ListaSentencias', 'finsi'], ['finsi'] \n",
    "    ],\n",
    "    'SentenciaRepetir': [\n",
    "        ['repetir', 'ListaSentencias', 'hasta', 'Expresion']\n",
    "    ],\n",
    "    'SentenciaAsig': [\n",
    "        ['id', 'equal', 'Expresion']\n",
    "    ],\n",
    "    'SentenciaLeer': [\n",
    "        ['leer', 'id']\n",
    "    ],\n",
    "    'SentenciaMostrar': [\n",
    "        ['mostrar', 'Expresion']\n",
    "    ],\n",
    "    'SentenciaFun': [\n",
    "        ['func', 'Proc', 'finfunc']\n",
    "    ],\n",
    "    'Proc': [\n",
    "        ['id', '(', 'ListaPar', ')', 'ListaSentencias']\n",
    "    ],\n",
    "    'ListaPar': [\n",
    "        ['id','ListaPar_Prime']\n",
    "    ],\n",
    "    'ListaPar_Prime':[\n",
    "        [';', 'id','ListaPar_Prime'],['λ']\n",
    "    ],\n",
    "    'Expresion': [\n",
    "        ['Expresion2', 'Expresion_Prime']\n",
    "    ],\n",
    "    'Expresion_Prime' : [\n",
    "        ['oprel', 'Expresion2'],['λ']\n",
    "    ],\n",
    "    'Expresion2': [\n",
    "        ['Termino','Expresion2_Prime']\n",
    "    ],\n",
    "    'Expresion2_Prime':[\n",
    "        ['opsuma', 'Termino','Expresion2_Prime'],['λ']\n",
    "    ],\n",
    "    'Termino': [\n",
    "        ['Factor','Termino_Prime']\n",
    "    ],\n",
    "    'Termino_Prime':[\n",
    "        [ 'opmult', 'Factor','Termino_Prime'],['λ']     \n",
    "    ],\n",
    "    'Factor': [\n",
    "        ['(', 'Expresion', ')'],\n",
    "        ['num'],\n",
    "        ['id']\n",
    "    ]\n",
    "}\n"
   ]
  },
  {
   "cell_type": "code",
   "execution_count": null,
   "id": "177b1fc2",
   "metadata": {},
   "outputs": [
    {
     "ename": "",
     "evalue": "",
     "output_type": "error",
     "traceback": [
      "\u001b[1;31mRunning cells with 'c:\\Users\\Juli\\AppData\\Local\\Microsoft\\WindowsApps\\PythonSoftwareFoundation.Python.3.11_qbz5n2kfra8p0\\python.exe' requires the ipykernel package.\n",
      "\u001b[1;31mRun the following command to install 'ipykernel' into the Python environment. \n",
      "\u001b[1;31mCommand: 'c:/Users/Juli/AppData/Local/Microsoft/WindowsApps/PythonSoftwareFoundation.Python.3.11_qbz5n2kfra8p0/python.exe -m pip install ipykernel -U --user --force-reinstall'"
     ]
    }
   ],
   "source": [
    "\n",
    "\n",
    "for cuerpo in P['Sentencia']:\n",
    "    print(cuerpo)\n",
    "    for simbolo in cuerpo:\n",
    "        print(simbolo)"
   ]
  },
  {
   "cell_type": "code",
   "execution_count": null,
   "id": "1c77a803",
   "metadata": {},
   "outputs": [
    {
     "ename": "",
     "evalue": "",
     "output_type": "error",
     "traceback": [
      "\u001b[1;31mRunning cells with 'c:\\Users\\Juli\\AppData\\Local\\Microsoft\\WindowsApps\\PythonSoftwareFoundation.Python.3.11_qbz5n2kfra8p0\\python.exe' requires the ipykernel package.\n",
      "\u001b[1;31mRun the following command to install 'ipykernel' into the Python environment. \n",
      "\u001b[1;31mCommand: 'c:/Users/Juli/AppData/Local/Microsoft/WindowsApps/PythonSoftwareFoundation.Python.3.11_qbz5n2kfra8p0/python.exe -m pip install ipykernel -U --user --force-reinstall'"
     ]
    }
   ],
   "source": [
    "[1,2] + [('EOF','EOF')]"
   ]
  },
  {
   "cell_type": "code",
   "execution_count": null,
   "id": "21df5e9d",
   "metadata": {},
   "outputs": [
    {
     "ename": "",
     "evalue": "",
     "output_type": "error",
     "traceback": [
      "\u001b[1;31mRunning cells with 'c:\\Users\\Juli\\AppData\\Local\\Microsoft\\WindowsApps\\PythonSoftwareFoundation.Python.3.11_qbz5n2kfra8p0\\python.exe' requires the ipykernel package.\n",
      "\u001b[1;31mRun the following command to install 'ipykernel' into the Python environment. \n",
      "\u001b[1;31mCommand: 'c:/Users/Juli/AppData/Local/Microsoft/WindowsApps/PythonSoftwareFoundation.Python.3.11_qbz5n2kfra8p0/python.exe -m pip install ipykernel -U --user --force-reinstall'"
     ]
    }
   ],
   "source": [
    "SD = {\n",
    "    'Programa': {'si':['ListasSentencias'],'no':['ListasSentencias'],'wow':['ListasSentencias']}\n",
    "}"
   ]
  },
  {
   "cell_type": "code",
   "execution_count": null,
   "id": "524ef00b",
   "metadata": {},
   "outputs": [
    {
     "ename": "",
     "evalue": "",
     "output_type": "error",
     "traceback": [
      "\u001b[1;31mRunning cells with 'c:\\Users\\Juli\\AppData\\Local\\Microsoft\\WindowsApps\\PythonSoftwareFoundation.Python.3.11_qbz5n2kfra8p0\\python.exe' requires the ipykernel package.\n",
      "\u001b[1;31mRun the following command to install 'ipykernel' into the Python environment. \n",
      "\u001b[1;31mCommand: 'c:/Users/Juli/AppData/Local/Microsoft/WindowsApps/PythonSoftwareFoundation.Python.3.11_qbz5n2kfra8p0/python.exe -m pip install ipykernel -U --user --force-reinstall'"
     ]
    }
   ],
   "source": [
    "SD['Programa']['si']"
   ]
  },
  {
   "cell_type": "code",
   "execution_count": null,
   "id": "08744819",
   "metadata": {},
   "outputs": [
    {
     "ename": "",
     "evalue": "",
     "output_type": "error",
     "traceback": [
      "\u001b[1;31mRunning cells with 'c:\\Users\\Juli\\AppData\\Local\\Microsoft\\WindowsApps\\PythonSoftwareFoundation.Python.3.11_qbz5n2kfra8p0\\python.exe' requires the ipykernel package.\n",
      "\u001b[1;31mRun the following command to install 'ipykernel' into the Python environment. \n",
      "\u001b[1;31mCommand: 'c:/Users/Juli/AppData/Local/Microsoft/WindowsApps/PythonSoftwareFoundation.Python.3.11_qbz5n2kfra8p0/python.exe -m pip install ipykernel -U --user --force-reinstall'"
     ]
    }
   ],
   "source": []
  }
 ],
 "metadata": {
  "kernelspec": {
   "display_name": "Python 3 (ipykernel)",
   "language": "python",
   "name": "python3"
  },
  "language_info": {
   "codemirror_mode": {
    "name": "ipython",
    "version": 3
   },
   "file_extension": ".py",
   "mimetype": "text/x-python",
   "name": "python",
   "nbconvert_exporter": "python",
   "pygments_lexer": "ipython3",
   "version": "3.11.6"
  }
 },
 "nbformat": 4,
 "nbformat_minor": 5
}
